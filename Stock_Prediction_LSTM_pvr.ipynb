{
  "nbformat": 4,
  "nbformat_minor": 0,
  "metadata": {
    "colab": {
      "name": "Stock_Prediction_LSTM_pvr.ipynb",
      "provenance": [],
      "collapsed_sections": []
    },
    "kernelspec": {
      "name": "python3",
      "display_name": "Python 3"
    }
  },
  "cells": [
    {
      "cell_type": "code",
      "metadata": {
        "id": "5IBke2ie86wU"
      },
      "source": [
        "import math\n",
        "import pandas as pd\n",
        "import numpy as np\n",
        "from sklearn.preprocessing import MinMaxScaler\n",
        "from keras.models import Sequential\n",
        "from keras.layers import Dense,LSTM\n",
        "import matplotlib.pyplot as plt\n",
        "plt.style.use('fivethirtyeight')\n",
        "import seaborn as sns\n",
        "import pandas_datareader as dr\n",
        "\n"
      ],
      "execution_count": null,
      "outputs": []
    },
    {
      "cell_type": "code",
      "metadata": {
        "id": "1JpVhWJL-7Y9"
      },
      "source": [
        "df=dr.data.get_data_yahoo('PVR.NS',start='2015-10-6',end='2020-10-11')\n"
      ],
      "execution_count": null,
      "outputs": []
    },
    {
      "cell_type": "code",
      "metadata": {
        "id": "weAVldoi_GN8",
        "outputId": "ea53c878-71e7-468b-a792-f69888485567",
        "colab": {
          "base_uri": "https://localhost:8080/",
          "height": 431
        }
      },
      "source": [
        "df"
      ],
      "execution_count": null,
      "outputs": [
        {
          "output_type": "execute_result",
          "data": {
            "text/html": [
              "<div>\n",
              "<style scoped>\n",
              "    .dataframe tbody tr th:only-of-type {\n",
              "        vertical-align: middle;\n",
              "    }\n",
              "\n",
              "    .dataframe tbody tr th {\n",
              "        vertical-align: top;\n",
              "    }\n",
              "\n",
              "    .dataframe thead th {\n",
              "        text-align: right;\n",
              "    }\n",
              "</style>\n",
              "<table border=\"1\" class=\"dataframe\">\n",
              "  <thead>\n",
              "    <tr style=\"text-align: right;\">\n",
              "      <th></th>\n",
              "      <th>High</th>\n",
              "      <th>Low</th>\n",
              "      <th>Open</th>\n",
              "      <th>Close</th>\n",
              "      <th>Volume</th>\n",
              "      <th>Adj Close</th>\n",
              "    </tr>\n",
              "    <tr>\n",
              "      <th>Date</th>\n",
              "      <th></th>\n",
              "      <th></th>\n",
              "      <th></th>\n",
              "      <th></th>\n",
              "      <th></th>\n",
              "      <th></th>\n",
              "    </tr>\n",
              "  </thead>\n",
              "  <tbody>\n",
              "    <tr>\n",
              "      <th>2015-10-06</th>\n",
              "      <td>851.000000</td>\n",
              "      <td>829.000000</td>\n",
              "      <td>840.750000</td>\n",
              "      <td>846.000000</td>\n",
              "      <td>217860.0</td>\n",
              "      <td>838.259888</td>\n",
              "    </tr>\n",
              "    <tr>\n",
              "      <th>2015-10-07</th>\n",
              "      <td>860.049988</td>\n",
              "      <td>833.200012</td>\n",
              "      <td>849.900024</td>\n",
              "      <td>838.700012</td>\n",
              "      <td>81982.0</td>\n",
              "      <td>831.026672</td>\n",
              "    </tr>\n",
              "    <tr>\n",
              "      <th>2015-10-08</th>\n",
              "      <td>845.900024</td>\n",
              "      <td>826.200012</td>\n",
              "      <td>845.900024</td>\n",
              "      <td>834.599976</td>\n",
              "      <td>120263.0</td>\n",
              "      <td>826.964172</td>\n",
              "    </tr>\n",
              "    <tr>\n",
              "      <th>2015-10-09</th>\n",
              "      <td>853.000000</td>\n",
              "      <td>825.000000</td>\n",
              "      <td>851.950012</td>\n",
              "      <td>828.299988</td>\n",
              "      <td>61289.0</td>\n",
              "      <td>820.721802</td>\n",
              "    </tr>\n",
              "    <tr>\n",
              "      <th>2015-10-12</th>\n",
              "      <td>839.950012</td>\n",
              "      <td>815.000000</td>\n",
              "      <td>832.000000</td>\n",
              "      <td>823.400024</td>\n",
              "      <td>76889.0</td>\n",
              "      <td>815.866699</td>\n",
              "    </tr>\n",
              "    <tr>\n",
              "      <th>...</th>\n",
              "      <td>...</td>\n",
              "      <td>...</td>\n",
              "      <td>...</td>\n",
              "      <td>...</td>\n",
              "      <td>...</td>\n",
              "      <td>...</td>\n",
              "    </tr>\n",
              "    <tr>\n",
              "      <th>2020-10-06</th>\n",
              "      <td>1299.000000</td>\n",
              "      <td>1245.050049</td>\n",
              "      <td>1280.000000</td>\n",
              "      <td>1273.400024</td>\n",
              "      <td>2373350.0</td>\n",
              "      <td>1273.400024</td>\n",
              "    </tr>\n",
              "    <tr>\n",
              "      <th>2020-10-07</th>\n",
              "      <td>1286.949951</td>\n",
              "      <td>1248.000000</td>\n",
              "      <td>1278.000000</td>\n",
              "      <td>1263.500000</td>\n",
              "      <td>1424254.0</td>\n",
              "      <td>1263.500000</td>\n",
              "    </tr>\n",
              "    <tr>\n",
              "      <th>2020-10-08</th>\n",
              "      <td>1284.800049</td>\n",
              "      <td>1248.150024</td>\n",
              "      <td>1276.699951</td>\n",
              "      <td>1255.050049</td>\n",
              "      <td>1556486.0</td>\n",
              "      <td>1255.050049</td>\n",
              "    </tr>\n",
              "    <tr>\n",
              "      <th>2020-10-09</th>\n",
              "      <td>1277.000000</td>\n",
              "      <td>1256.000000</td>\n",
              "      <td>1265.000000</td>\n",
              "      <td>1268.400024</td>\n",
              "      <td>1310031.0</td>\n",
              "      <td>1268.400024</td>\n",
              "    </tr>\n",
              "    <tr>\n",
              "      <th>2020-10-12</th>\n",
              "      <td>1290.000000</td>\n",
              "      <td>1242.500000</td>\n",
              "      <td>1290.000000</td>\n",
              "      <td>1251.199951</td>\n",
              "      <td>1521430.0</td>\n",
              "      <td>1251.199951</td>\n",
              "    </tr>\n",
              "  </tbody>\n",
              "</table>\n",
              "<p>1235 rows × 6 columns</p>\n",
              "</div>"
            ],
            "text/plain": [
              "                   High          Low  ...     Volume    Adj Close\n",
              "Date                                  ...                        \n",
              "2015-10-06   851.000000   829.000000  ...   217860.0   838.259888\n",
              "2015-10-07   860.049988   833.200012  ...    81982.0   831.026672\n",
              "2015-10-08   845.900024   826.200012  ...   120263.0   826.964172\n",
              "2015-10-09   853.000000   825.000000  ...    61289.0   820.721802\n",
              "2015-10-12   839.950012   815.000000  ...    76889.0   815.866699\n",
              "...                 ...          ...  ...        ...          ...\n",
              "2020-10-06  1299.000000  1245.050049  ...  2373350.0  1273.400024\n",
              "2020-10-07  1286.949951  1248.000000  ...  1424254.0  1263.500000\n",
              "2020-10-08  1284.800049  1248.150024  ...  1556486.0  1255.050049\n",
              "2020-10-09  1277.000000  1256.000000  ...  1310031.0  1268.400024\n",
              "2020-10-12  1290.000000  1242.500000  ...  1521430.0  1251.199951\n",
              "\n",
              "[1235 rows x 6 columns]"
            ]
          },
          "metadata": {
            "tags": []
          },
          "execution_count": 34
        }
      ]
    },
    {
      "cell_type": "code",
      "metadata": {
        "id": "caItNRPx_hAH",
        "outputId": "6712521d-88f2-4743-8dca-bfadba7ea559",
        "colab": {
          "base_uri": "https://localhost:8080/",
          "height": 558
        }
      },
      "source": [
        "#visuliazing the close price \n",
        "plt.figure(figsize=(16,8))\n",
        "plt.title('Close Price History')\n",
        "plt.plot(df['Close'])\n",
        "plt.xlabel('Date',fontsize=18)\n",
        "plt.ylabel('Close Price',fontsize=18)\n",
        "plt.show()"
      ],
      "execution_count": null,
      "outputs": [
        {
          "output_type": "display_data",
          "data": {
            "image/png": "[encoded data removed]",
            "text/plain": [
              "<Figure size 1152x576 with 1 Axes>"
            ]
          },
          "metadata": {
            "tags": []
          }
        }
      ]
    },
    {
      "cell_type": "code",
      "metadata": {
        "id": "FCgSxftXAxuA",
        "outputId": "b4ea42f1-9f63-4687-c012-1448db533e5f",
        "colab": {
          "base_uri": "https://localhost:8080/",
          "height": 34
        }
      },
      "source": [
        "#new dataframe\n",
        "data=df.filter(['Close'])\n",
        "#coverting to numpy\n",
        "dataset=data.values\n",
        "training_data_len=math.ceil(len(dataset)*.8)\n",
        "training_data_len"
      ],
      "execution_count": null,
      "outputs": [
        {
          "output_type": "execute_result",
          "data": {
            "text/plain": [
              "988"
            ]
          },
          "metadata": {
            "tags": []
          },
          "execution_count": 36
        }
      ]
    },
    {
      "cell_type": "code",
      "metadata": {
        "id": "jHaNY0VhBSHn",
        "outputId": "c1595d87-a81a-4c89-e0ed-d7fc84d424af",
        "colab": {
          "base_uri": "https://localhost:8080/",
          "height": 134
        }
      },
      "source": [
        "#scaling the datas\n",
        "scaler=MinMaxScaler(feature_range=(0,1))\n",
        "scaled_data=scaler.fit_transform(dataset)\n",
        "scaled_data"
      ],
      "execution_count": null,
      "outputs": [
        {
          "output_type": "execute_result",
          "data": {
            "text/plain": [
              "array([[0.13244762],\n",
              "       [0.12744831],\n",
              "       [0.12464045],\n",
              "       ...,\n",
              "       [0.4125805 ],\n",
              "       [0.42172306],\n",
              "       [0.40994381]])"
            ]
          },
          "metadata": {
            "tags": []
          },
          "execution_count": 37
        }
      ]
    },
    {
      "cell_type": "code",
      "metadata": {
        "id": "rASzqFhGBp3B",
        "outputId": "bcbc9565-4139-40d5-d96c-70a8047183f8",
        "colab": {
          "base_uri": "https://localhost:8080/",
          "height": 252
        }
      },
      "source": [
        "#creating the dataset\n",
        "train_data=scaled_data[0:training_data_len,:]\n",
        "#split\n",
        "x_train=[]\n",
        "y_train=[]\n",
        "for i in range(60,len(train_data)):\n",
        "  x_train.append(train_data[i-60:i,0])\n",
        "  y_train.append(train_data[i,0])\n",
        "  if i<=60:\n",
        "    print(x_train)\n",
        "    print(y_train)\n",
        "    print()"
      ],
      "execution_count": null,
      "outputs": [
        {
          "output_type": "stream",
          "text": [
            "[array([0.13244762, 0.12744831, 0.12464045, 0.12032599, 0.11697031,\n",
            "       0.12145598, 0.12717436, 0.13463911, 0.13724148, 0.13826874,\n",
            "       0.13707027, 0.13470758, 0.11587454, 0.11758663, 0.1217984 ,\n",
            "       0.12279143, 0.13090674, 0.12042873, 0.1423093 , 0.13035887,\n",
            "       0.13196823, 0.11584031, 0.11128612, 0.0998836 , 0.10241751,\n",
            "       0.09847969, 0.10433504, 0.10402686, 0.09758937, 0.11039584,\n",
            "       0.11977812, 0.11905905, 0.12292836, 0.12501715, 0.13484455,\n",
            "       0.12559924, 0.13152311, 0.13320092, 0.11892208, 0.10560198,\n",
            "       0.103479  , 0.09978086, 0.08765922, 0.06773046, 0.09406248,\n",
            "       0.08495415, 0.09101494, 0.10912891, 0.10748528, 0.11382003,\n",
            "       0.11306672, 0.11251886, 0.09717848, 0.09889057, 0.09895904,\n",
            "       0.1090604 , 0.10467746, 0.10214355, 0.09748667, 0.10556774])]\n",
            "[0.11748393386066613]\n",
            "\n"
          ],
          "name": "stdout"
        }
      ]
    },
    {
      "cell_type": "code",
      "metadata": {
        "id": "W0bpxQUiCzNQ"
      },
      "source": [
        "#converting to numpy\n",
        "x_train,y_train=np.array(x_train),np.array(y_train)"
      ],
      "execution_count": null,
      "outputs": []
    },
    {
      "cell_type": "code",
      "metadata": {
        "id": "A_8ZiuIEDANW",
        "outputId": "4e564558-bdc1-4222-d7c7-3e7252054b91",
        "colab": {
          "base_uri": "https://localhost:8080/",
          "height": 34
        }
      },
      "source": [
        "#reshaping the data\n",
        "x_train=np.reshape(x_train,(x_train.shape[0],x_train.shape[1],1))\n",
        "x_train.shape\n"
      ],
      "execution_count": null,
      "outputs": [
        {
          "output_type": "execute_result",
          "data": {
            "text/plain": [
              "(928, 60, 1)"
            ]
          },
          "metadata": {
            "tags": []
          },
          "execution_count": 40
        }
      ]
    },
    {
      "cell_type": "code",
      "metadata": {
        "id": "rSp-YKc9DdYZ"
      },
      "source": [
        "#LSTM Model\n",
        "model=Sequential()\n",
        "model.add(LSTM(50,return_sequences=True,input_shape=(x_train.shape[1],1)))\n",
        "model.add(LSTM(50,return_sequences=False))\n",
        "model.add(Dense(25))\n",
        "model.add(Dense(1))\n",
        "\n"
      ],
      "execution_count": null,
      "outputs": []
    },
    {
      "cell_type": "code",
      "metadata": {
        "id": "15HSgrDwENWm"
      },
      "source": [
        "#Compile the model\n",
        "model.compile(optimizer='adam',loss='mean_squared_error')"
      ],
      "execution_count": null,
      "outputs": []
    },
    {
      "cell_type": "code",
      "metadata": {
        "id": "wmEg73VNEdHP",
        "outputId": "2b3f079b-96c2-49f1-91b6-104d947d5b60",
        "colab": {
          "base_uri": "https://localhost:8080/",
          "height": 134
        }
      },
      "source": [
        "model.fit(x_train,y_train,batch_size=1,epochs=3)"
      ],
      "execution_count": null,
      "outputs": [
        {
          "output_type": "stream",
          "text": [
            "Epoch 1/3\n",
            "928/928 [==============================] - 20s 22ms/step - loss: 0.0035\n",
            "Epoch 2/3\n",
            "928/928 [==============================] - 20s 21ms/step - loss: 0.0014\n",
            "Epoch 3/3\n",
            "928/928 [==============================] - 20s 21ms/step - loss: 9.3818e-04\n"
          ],
          "name": "stdout"
        },
        {
          "output_type": "execute_result",
          "data": {
            "text/plain": [
              "<tensorflow.python.keras.callbacks.History at 0x7fcd025795c0>"
            ]
          },
          "metadata": {
            "tags": []
          },
          "execution_count": 43
        }
      ]
    },
    {
      "cell_type": "code",
      "metadata": {
        "id": "r3Y2o__aEp5N"
      },
      "source": [
        "#creating rhe testing data\n",
        "test_data=scaled_data[training_data_len-60:,:]\n",
        "x_test=[]\n",
        "y_test=dataset[training_data_len:,:]\n",
        "for i in range(60,len(test_data)):\n",
        "  x_test.append(test_data[i-60:i,0])"
      ],
      "execution_count": null,
      "outputs": []
    },
    {
      "cell_type": "code",
      "metadata": {
        "id": "oo836ft6E1wn"
      },
      "source": [
        "#numpy to array\n",
        "x_test=np.array(x_test)"
      ],
      "execution_count": null,
      "outputs": []
    },
    {
      "cell_type": "code",
      "metadata": {
        "id": "zT6c_SQeFkkt"
      },
      "source": [
        "x_test=np.reshape(x_test,(x_test.shape[0],x_test.shape[1],1))"
      ],
      "execution_count": null,
      "outputs": []
    },
    {
      "cell_type": "code",
      "metadata": {
        "id": "1AQuDto9Fw64"
      },
      "source": [
        "#get the models prediction\n",
        "predictions=model.predict(x_test)\n",
        "predictions=scaler.inverse_transform(predictions)\n"
      ],
      "execution_count": null,
      "outputs": []
    },
    {
      "cell_type": "code",
      "metadata": {
        "id": "4z3qOKS7GI-R",
        "outputId": "8cb45598-459d-4e9f-bf39-e79a7f7ae27f",
        "colab": {
          "base_uri": "https://localhost:8080/",
          "height": 34
        }
      },
      "source": [
        "#RMSE\n",
        "rmse=np.sqrt(np.mean(((predictions- y_test)**2)))\n",
        "rmse\n"
      ],
      "execution_count": null,
      "outputs": [
        {
          "output_type": "execute_result",
          "data": {
            "text/plain": [
              "53.770825161611604"
            ]
          },
          "metadata": {
            "tags": []
          },
          "execution_count": 48
        }
      ]
    },
    {
      "cell_type": "code",
      "metadata": {
        "id": "SurOJaraHc4T",
        "outputId": "978580c0-d09b-45ec-9d3d-bbff50059092",
        "colab": {
          "base_uri": "https://localhost:8080/",
          "height": 659
        }
      },
      "source": [
        "#Plot/Create the data for the graph\n",
        "train = data[:training_data_len]\n",
        "valid = data[training_data_len:]\n",
        "valid['Predictions'] = predictions\n",
        "#Visualize the data\n",
        "plt.figure(figsize=(16,8))\n",
        "plt.title('Model')\n",
        "plt.xlabel('Date', fontsize=18)\n",
        "plt.ylabel('Close Price', fontsize=18)\n",
        "plt.plot(train['Close'])\n",
        "plt.plot(valid[['Close', 'Predictions']])\n",
        "plt.legend(['Train', 'Val', 'Predictions'], loc='lower right')\n",
        "plt.show()"
      ],
      "execution_count": null,
      "outputs": [
        {
          "output_type": "stream",
          "text": [
            "/usr/local/lib/python3.6/dist-packages/ipykernel_launcher.py:4: SettingWithCopyWarning: \n",
            "A value is trying to be set on a copy of a slice from a DataFrame.\n",
            "Try using .loc[row_indexer,col_indexer] = value instead\n",
            "\n",
            "See the caveats in the documentation: https://pandas.pydata.org/pandas-docs/stable/user_guide/indexing.html#returning-a-view-versus-a-copy\n",
            "  after removing the cwd from sys.path.\n"
          ],
          "name": "stderr"
        },
        {
          "output_type": "display_data",
          "data": {
            "image/png": "[encoded data removed]",
            "text/plain": [
              "<Figure size 1152x576 with 1 Axes>"
            ]
          },
          "metadata": {
            "tags": []
          }
        }
      ]
    },
    {
      "cell_type": "code",
      "metadata": {
        "id": "TTvvGYsHHwRI",
        "outputId": "478c04b7-3153-45fc-ecee-20c075936c24",
        "colab": {
          "base_uri": "https://localhost:8080/",
          "height": 431
        }
      },
      "source": [
        "valid"
      ],
      "execution_count": null,
      "outputs": [
        {
          "output_type": "execute_result",
          "data": {
            "text/html": [
              "<div>\n",
              "<style scoped>\n",
              "    .dataframe tbody tr th:only-of-type {\n",
              "        vertical-align: middle;\n",
              "    }\n",
              "\n",
              "    .dataframe tbody tr th {\n",
              "        vertical-align: top;\n",
              "    }\n",
              "\n",
              "    .dataframe thead th {\n",
              "        text-align: right;\n",
              "    }\n",
              "</style>\n",
              "<table border=\"1\" class=\"dataframe\">\n",
              "  <thead>\n",
              "    <tr style=\"text-align: right;\">\n",
              "      <th></th>\n",
              "      <th>Close</th>\n",
              "      <th>Predictions</th>\n",
              "    </tr>\n",
              "    <tr>\n",
              "      <th>Date</th>\n",
              "      <th></th>\n",
              "      <th></th>\n",
              "    </tr>\n",
              "  </thead>\n",
              "  <tbody>\n",
              "    <tr>\n",
              "      <th>2019-10-15</th>\n",
              "      <td>1818.750000</td>\n",
              "      <td>1773.611328</td>\n",
              "    </tr>\n",
              "    <tr>\n",
              "      <th>2019-10-16</th>\n",
              "      <td>1821.300049</td>\n",
              "      <td>1788.675659</td>\n",
              "    </tr>\n",
              "    <tr>\n",
              "      <th>2019-10-17</th>\n",
              "      <td>1840.900024</td>\n",
              "      <td>1795.679932</td>\n",
              "    </tr>\n",
              "    <tr>\n",
              "      <th>2019-10-18</th>\n",
              "      <td>1827.550049</td>\n",
              "      <td>1808.235107</td>\n",
              "    </tr>\n",
              "    <tr>\n",
              "      <th>2019-10-22</th>\n",
              "      <td>1801.800049</td>\n",
              "      <td>1803.028931</td>\n",
              "    </tr>\n",
              "    <tr>\n",
              "      <th>...</th>\n",
              "      <td>...</td>\n",
              "      <td>...</td>\n",
              "    </tr>\n",
              "    <tr>\n",
              "      <th>2020-10-06</th>\n",
              "      <td>1273.400024</td>\n",
              "      <td>1271.515503</td>\n",
              "    </tr>\n",
              "    <tr>\n",
              "      <th>2020-10-07</th>\n",
              "      <td>1263.500000</td>\n",
              "      <td>1268.396240</td>\n",
              "    </tr>\n",
              "    <tr>\n",
              "      <th>2020-10-08</th>\n",
              "      <td>1255.050049</td>\n",
              "      <td>1257.748413</td>\n",
              "    </tr>\n",
              "    <tr>\n",
              "      <th>2020-10-09</th>\n",
              "      <td>1268.400024</td>\n",
              "      <td>1247.020020</td>\n",
              "    </tr>\n",
              "    <tr>\n",
              "      <th>2020-10-12</th>\n",
              "      <td>1251.199951</td>\n",
              "      <td>1249.441650</td>\n",
              "    </tr>\n",
              "  </tbody>\n",
              "</table>\n",
              "<p>247 rows × 2 columns</p>\n",
              "</div>"
            ],
            "text/plain": [
              "                  Close  Predictions\n",
              "Date                                \n",
              "2019-10-15  1818.750000  1773.611328\n",
              "2019-10-16  1821.300049  1788.675659\n",
              "2019-10-17  1840.900024  1795.679932\n",
              "2019-10-18  1827.550049  1808.235107\n",
              "2019-10-22  1801.800049  1803.028931\n",
              "...                 ...          ...\n",
              "2020-10-06  1273.400024  1271.515503\n",
              "2020-10-07  1263.500000  1268.396240\n",
              "2020-10-08  1255.050049  1257.748413\n",
              "2020-10-09  1268.400024  1247.020020\n",
              "2020-10-12  1251.199951  1249.441650\n",
              "\n",
              "[247 rows x 2 columns]"
            ]
          },
          "metadata": {
            "tags": []
          },
          "execution_count": 50
        }
      ]
    },
    {
      "cell_type": "code",
      "metadata": {
        "id": "M_m9uh72b9-i",
        "outputId": "0c8533e4-5530-4b1c-9892-e8729f33bc0c",
        "colab": {
          "base_uri": "https://localhost:8080/",
          "height": 34
        }
      },
      "source": [
        "len(test_data)"
      ],
      "execution_count": null,
      "outputs": [
        {
          "output_type": "execute_result",
          "data": {
            "text/plain": [
              "307"
            ]
          },
          "metadata": {
            "tags": []
          },
          "execution_count": 51
        }
      ]
    },
    {
      "cell_type": "code",
      "metadata": {
        "id": "KfHL2xJ7cM8S",
        "outputId": "a306dd18-4363-474d-fe48-642c7970da04",
        "colab": {
          "base_uri": "https://localhost:8080/",
          "height": 34
        }
      },
      "source": [
        "x_input=test_data[207:].reshape(1,-1)\n",
        "x_input.shape\n"
      ],
      "execution_count": null,
      "outputs": [
        {
          "output_type": "execute_result",
          "data": {
            "text/plain": [
              "(1, 100)"
            ]
          },
          "metadata": {
            "tags": []
          },
          "execution_count": 52
        }
      ]
    },
    {
      "cell_type": "code",
      "metadata": {
        "id": "m6yVGqWRcS_f"
      },
      "source": [
        "temp_input=list(x_input)\n",
        "temp_input=temp_input[0].tolist()"
      ],
      "execution_count": null,
      "outputs": []
    },
    {
      "cell_type": "code",
      "metadata": {
        "id": "2cxsfpkLcWDy",
        "outputId": "df54d3da-16c5-463b-936a-462b1cfcbcfe",
        "colab": {
          "base_uri": "https://localhost:8080/",
          "height": 1000
        }
      },
      "source": [
        "temp_input"
      ],
      "execution_count": null,
      "outputs": [
        {
          "output_type": "execute_result",
          "data": {
            "text/plain": [
              "[0.13501576121436298,\n",
              " 0.13617999359469468,\n",
              " 0.1428913942941955,\n",
              " 0.1585056845622026,\n",
              " 0.17073006185692496,\n",
              " 0.21140939372890344,\n",
              " 0.2182577703200621,\n",
              " 0.23989866542762772,\n",
              " 0.28526916034405403,\n",
              " 0.4037802670950469,\n",
              " 0.348274224982714,\n",
              " 0.2978016393468662,\n",
              " 0.24099438896254366,\n",
              " 0.2756129660701897,\n",
              " 0.2583550069014615,\n",
              " 0.24517188196348105,\n",
              " 0.23089303349058465,\n",
              " 0.238186571279838,\n",
              " 0.24222708838911755,\n",
              " 0.249349416763592,\n",
              " 0.2686960388344417,\n",
              " 0.28263255207612736,\n",
              " 0.27643473782178984,\n",
              " 0.2809546496522852,\n",
              " 0.24349406313798605,\n",
              " 0.2415833393175817,\n",
              " 0.2266860720723085,\n",
              " 0.22671963680865315,\n",
              " 0.2357978321109444,\n",
              " 0.2475345802472655,\n",
              " 0.2549992856521244,\n",
              " 0.27429804766928223,\n",
              " 0.26612789761275724,\n",
              " 0.2671209623774835,\n",
              " 0.27016845652121024,\n",
              " 0.2732845013095263,\n",
              " 0.25626630220016633,\n",
              " 0.2692782177233679,\n",
              " 0.2699630553824838,\n",
              " 0.2633543552523462,\n",
              " 0.261265566952704,\n",
              " 0.2654088682296938,\n",
              " 0.31190936200333075,\n",
              " 0.3123202478791308,\n",
              " 0.3084166230631621,\n",
              " 0.32646216225954294,\n",
              " 0.3252978880800377,\n",
              " 0.33152989405832267,\n",
              " 0.29492535461791836,\n",
              " 0.2958156770141078,\n",
              " 0.2985550276505713,\n",
              " 0.30307493948106656,\n",
              " 0.3334131976208914,\n",
              " 0.32591425869291146,\n",
              " 0.3254690974948167,\n",
              " 0.32444184100614293,\n",
              " 0.32173676569197407,\n",
              " 0.37162717243889565,\n",
              " 0.4121010613729741,\n",
              " 0.404362445983973,\n",
              " 0.39850705055919355,\n",
              " 0.4158676684981114,\n",
              " 0.4660320270283488,\n",
              " 0.4758594307169921,\n",
              " 0.44997261736142047,\n",
              " 0.4530543868274419,\n",
              " 0.45853308810036886,\n",
              " 0.45887550692992674,\n",
              " 0.4678125882223806,\n",
              " 0.5430420719549365,\n",
              " 0.45127382563341,\n",
              " 0.5136625196591963,\n",
              " 0.5134228431981751,\n",
              " 0.503663906555774,\n",
              " 0.5028420512058267,\n",
              " 0.4804820849160242,\n",
              " 0.428194746362197,\n",
              " 0.44045335718004053,\n",
              " 0.43795368300459814,\n",
              " 0.4124092884785845,\n",
              " 0.44993834203912586,\n",
              " 0.41922338974744855,\n",
              " 0.4079235683720367,\n",
              " 0.39015206455731877,\n",
              " 0.37755103490991737,\n",
              " 0.3172168538614787,\n",
              " 0.3249897445727744,\n",
              " 0.31762773973727876,\n",
              " 0.28016706962463256,\n",
              " 0.30704694774493035,\n",
              " 0.3979249552686145,\n",
              " 0.37351047600146425,\n",
              " 0.38391997498068664,\n",
              " 0.44370633606084087,\n",
              " 0.42559241341656495,\n",
              " 0.4251472522184703,\n",
              " 0.4183673426735537,\n",
              " 0.4125804978933635,\n",
              " 0.42172306392289083,\n",
              " 0.4099438060270897]"
            ]
          },
          "metadata": {
            "tags": []
          },
          "execution_count": 54
        }
      ]
    },
    {
      "cell_type": "code",
      "metadata": {
        "id": "yD4PBnCScWC2",
        "outputId": "140aeef4-1769-4144-d9db-dad74476c0ec",
        "colab": {
          "base_uri": "https://localhost:8080/",
          "height": 1000
        }
      },
      "source": [
        "#predicting the next 10 days\n",
        "from numpy import array\n",
        "\n",
        "lst_output=[]\n",
        "n_steps=100\n",
        "i=0\n",
        "while(i<30):\n",
        "    \n",
        "    if(len(temp_input)>100):\n",
        "        #print(temp_input)\n",
        "        x_input=np.array(temp_input[1:])\n",
        "        print(\"{} day input {}\".format(i,x_input))\n",
        "        x_input=x_input.reshape(1,-1)\n",
        "        x_input = x_input.reshape((1, n_steps, 1))\n",
        "        #print(x_input)\n",
        "        yhat = model.predict(x_input, verbose=0)\n",
        "        print(\"{} day output {}\".format(i,yhat))\n",
        "        temp_input.extend(yhat[0].tolist())\n",
        "        temp_input=temp_input[1:]\n",
        "        #print(temp_input)\n",
        "        lst_output.extend(yhat.tolist())\n",
        "        i=i+1\n",
        "    else:\n",
        "        x_input = x_input.reshape((1, n_steps,1))\n",
        "        yhat = model.predict(x_input, verbose=0)\n",
        "        print(yhat[0])\n",
        "        temp_input.extend(yhat[0].tolist())\n",
        "        print(len(temp_input))\n",
        "        lst_output.extend(yhat.tolist())\n",
        "        i=i+1\n",
        "    \n",
        "\n",
        "print(lst_output)"
      ],
      "execution_count": null,
      "outputs": [
        {
          "output_type": "stream",
          "text": [
            "WARNING:tensorflow:Model was constructed with shape (None, 60, 1) for input Tensor(\"lstm_2_input:0\", shape=(None, 60, 1), dtype=float32), but it was called on an input with incompatible shape (None, 100, 1).\n",
            "[0.40645307]\n",
            "101\n",
            "1 day input [0.13617999 0.14289139 0.15850568 0.17073006 0.21140939 0.21825777\n",
            " 0.23989867 0.28526916 0.40378027 0.34827422 0.29780164 0.24099439\n",
            " 0.27561297 0.25835501 0.24517188 0.23089303 0.23818657 0.24222709\n",
            " 0.24934942 0.26869604 0.28263255 0.27643474 0.28095465 0.24349406\n",
            " 0.24158334 0.22668607 0.22671964 0.23579783 0.24753458 0.25499929\n",
            " 0.27429805 0.2661279  0.26712096 0.27016846 0.2732845  0.2562663\n",
            " 0.26927822 0.26996306 0.26335436 0.26126557 0.26540887 0.31190936\n",
            " 0.31232025 0.30841662 0.32646216 0.32529789 0.33152989 0.29492535\n",
            " 0.29581568 0.29855503 0.30307494 0.3334132  0.32591426 0.3254691\n",
            " 0.32444184 0.32173677 0.37162717 0.41210106 0.40436245 0.39850705\n",
            " 0.41586767 0.46603203 0.47585943 0.44997262 0.45305439 0.45853309\n",
            " 0.45887551 0.46781259 0.54304207 0.45127383 0.51366252 0.51342284\n",
            " 0.50366391 0.50284205 0.48048208 0.42819475 0.44045336 0.43795368\n",
            " 0.41240929 0.44993834 0.41922339 0.40792357 0.39015206 0.37755103\n",
            " 0.31721685 0.32498974 0.31762774 0.28016707 0.30704695 0.39792496\n",
            " 0.37351048 0.38391997 0.44370634 0.42559241 0.42514725 0.41836734\n",
            " 0.4125805  0.42172306 0.40994381 0.40645307]\n",
            "1 day output [[0.4036535]]\n",
            "2 day input [0.14289139 0.15850568 0.17073006 0.21140939 0.21825777 0.23989867\n",
            " 0.28526916 0.40378027 0.34827422 0.29780164 0.24099439 0.27561297\n",
            " 0.25835501 0.24517188 0.23089303 0.23818657 0.24222709 0.24934942\n",
            " 0.26869604 0.28263255 0.27643474 0.28095465 0.24349406 0.24158334\n",
            " 0.22668607 0.22671964 0.23579783 0.24753458 0.25499929 0.27429805\n",
            " 0.2661279  0.26712096 0.27016846 0.2732845  0.2562663  0.26927822\n",
            " 0.26996306 0.26335436 0.26126557 0.26540887 0.31190936 0.31232025\n",
            " 0.30841662 0.32646216 0.32529789 0.33152989 0.29492535 0.29581568\n",
            " 0.29855503 0.30307494 0.3334132  0.32591426 0.3254691  0.32444184\n",
            " 0.32173677 0.37162717 0.41210106 0.40436245 0.39850705 0.41586767\n",
            " 0.46603203 0.47585943 0.44997262 0.45305439 0.45853309 0.45887551\n",
            " 0.46781259 0.54304207 0.45127383 0.51366252 0.51342284 0.50366391\n",
            " 0.50284205 0.48048208 0.42819475 0.44045336 0.43795368 0.41240929\n",
            " 0.44993834 0.41922339 0.40792357 0.39015206 0.37755103 0.31721685\n",
            " 0.32498974 0.31762774 0.28016707 0.30704695 0.39792496 0.37351048\n",
            " 0.38391997 0.44370634 0.42559241 0.42514725 0.41836734 0.4125805\n",
            " 0.42172306 0.40994381 0.40645307 0.4036535 ]\n",
            "2 day output [[0.401427]]\n",
            "3 day input [0.15850568 0.17073006 0.21140939 0.21825777 0.23989867 0.28526916\n",
            " 0.40378027 0.34827422 0.29780164 0.24099439 0.27561297 0.25835501\n",
            " 0.24517188 0.23089303 0.23818657 0.24222709 0.24934942 0.26869604\n",
            " 0.28263255 0.27643474 0.28095465 0.24349406 0.24158334 0.22668607\n",
            " 0.22671964 0.23579783 0.24753458 0.25499929 0.27429805 0.2661279\n",
            " 0.26712096 0.27016846 0.2732845  0.2562663  0.26927822 0.26996306\n",
            " 0.26335436 0.26126557 0.26540887 0.31190936 0.31232025 0.30841662\n",
            " 0.32646216 0.32529789 0.33152989 0.29492535 0.29581568 0.29855503\n",
            " 0.30307494 0.3334132  0.32591426 0.3254691  0.32444184 0.32173677\n",
            " 0.37162717 0.41210106 0.40436245 0.39850705 0.41586767 0.46603203\n",
            " 0.47585943 0.44997262 0.45305439 0.45853309 0.45887551 0.46781259\n",
            " 0.54304207 0.45127383 0.51366252 0.51342284 0.50366391 0.50284205\n",
            " 0.48048208 0.42819475 0.44045336 0.43795368 0.41240929 0.44993834\n",
            " 0.41922339 0.40792357 0.39015206 0.37755103 0.31721685 0.32498974\n",
            " 0.31762774 0.28016707 0.30704695 0.39792496 0.37351048 0.38391997\n",
            " 0.44370634 0.42559241 0.42514725 0.41836734 0.4125805  0.42172306\n",
            " 0.40994381 0.40645307 0.4036535  0.401427  ]\n",
            "3 day output [[0.3998293]]\n",
            "4 day input [0.17073006 0.21140939 0.21825777 0.23989867 0.28526916 0.40378027\n",
            " 0.34827422 0.29780164 0.24099439 0.27561297 0.25835501 0.24517188\n",
            " 0.23089303 0.23818657 0.24222709 0.24934942 0.26869604 0.28263255\n",
            " 0.27643474 0.28095465 0.24349406 0.24158334 0.22668607 0.22671964\n",
            " 0.23579783 0.24753458 0.25499929 0.27429805 0.2661279  0.26712096\n",
            " 0.27016846 0.2732845  0.2562663  0.26927822 0.26996306 0.26335436\n",
            " 0.26126557 0.26540887 0.31190936 0.31232025 0.30841662 0.32646216\n",
            " 0.32529789 0.33152989 0.29492535 0.29581568 0.29855503 0.30307494\n",
            " 0.3334132  0.32591426 0.3254691  0.32444184 0.32173677 0.37162717\n",
            " 0.41210106 0.40436245 0.39850705 0.41586767 0.46603203 0.47585943\n",
            " 0.44997262 0.45305439 0.45853309 0.45887551 0.46781259 0.54304207\n",
            " 0.45127383 0.51366252 0.51342284 0.50366391 0.50284205 0.48048208\n",
            " 0.42819475 0.44045336 0.43795368 0.41240929 0.44993834 0.41922339\n",
            " 0.40792357 0.39015206 0.37755103 0.31721685 0.32498974 0.31762774\n",
            " 0.28016707 0.30704695 0.39792496 0.37351048 0.38391997 0.44370634\n",
            " 0.42559241 0.42514725 0.41836734 0.4125805  0.42172306 0.40994381\n",
            " 0.40645307 0.4036535  0.401427   0.3998293 ]\n",
            "4 day output [[0.39870536]]\n",
            "5 day input [0.21140939 0.21825777 0.23989867 0.28526916 0.40378027 0.34827422\n",
            " 0.29780164 0.24099439 0.27561297 0.25835501 0.24517188 0.23089303\n",
            " 0.23818657 0.24222709 0.24934942 0.26869604 0.28263255 0.27643474\n",
            " 0.28095465 0.24349406 0.24158334 0.22668607 0.22671964 0.23579783\n",
            " 0.24753458 0.25499929 0.27429805 0.2661279  0.26712096 0.27016846\n",
            " 0.2732845  0.2562663  0.26927822 0.26996306 0.26335436 0.26126557\n",
            " 0.26540887 0.31190936 0.31232025 0.30841662 0.32646216 0.32529789\n",
            " 0.33152989 0.29492535 0.29581568 0.29855503 0.30307494 0.3334132\n",
            " 0.32591426 0.3254691  0.32444184 0.32173677 0.37162717 0.41210106\n",
            " 0.40436245 0.39850705 0.41586767 0.46603203 0.47585943 0.44997262\n",
            " 0.45305439 0.45853309 0.45887551 0.46781259 0.54304207 0.45127383\n",
            " 0.51366252 0.51342284 0.50366391 0.50284205 0.48048208 0.42819475\n",
            " 0.44045336 0.43795368 0.41240929 0.44993834 0.41922339 0.40792357\n",
            " 0.39015206 0.37755103 0.31721685 0.32498974 0.31762774 0.28016707\n",
            " 0.30704695 0.39792496 0.37351048 0.38391997 0.44370634 0.42559241\n",
            " 0.42514725 0.41836734 0.4125805  0.42172306 0.40994381 0.40645307\n",
            " 0.4036535  0.401427   0.3998293  0.39870536]\n",
            "5 day output [[0.39787075]]\n",
            "6 day input [0.21825777 0.23989867 0.28526916 0.40378027 0.34827422 0.29780164\n",
            " 0.24099439 0.27561297 0.25835501 0.24517188 0.23089303 0.23818657\n",
            " 0.24222709 0.24934942 0.26869604 0.28263255 0.27643474 0.28095465\n",
            " 0.24349406 0.24158334 0.22668607 0.22671964 0.23579783 0.24753458\n",
            " 0.25499929 0.27429805 0.2661279  0.26712096 0.27016846 0.2732845\n",
            " 0.2562663  0.26927822 0.26996306 0.26335436 0.26126557 0.26540887\n",
            " 0.31190936 0.31232025 0.30841662 0.32646216 0.32529789 0.33152989\n",
            " 0.29492535 0.29581568 0.29855503 0.30307494 0.3334132  0.32591426\n",
            " 0.3254691  0.32444184 0.32173677 0.37162717 0.41210106 0.40436245\n",
            " 0.39850705 0.41586767 0.46603203 0.47585943 0.44997262 0.45305439\n",
            " 0.45853309 0.45887551 0.46781259 0.54304207 0.45127383 0.51366252\n",
            " 0.51342284 0.50366391 0.50284205 0.48048208 0.42819475 0.44045336\n",
            " 0.43795368 0.41240929 0.44993834 0.41922339 0.40792357 0.39015206\n",
            " 0.37755103 0.31721685 0.32498974 0.31762774 0.28016707 0.30704695\n",
            " 0.39792496 0.37351048 0.38391997 0.44370634 0.42559241 0.42514725\n",
            " 0.41836734 0.4125805  0.42172306 0.40994381 0.40645307 0.4036535\n",
            " 0.401427   0.3998293  0.39870536 0.39787075]\n",
            "6 day output [[0.39716712]]\n",
            "7 day input [0.23989867 0.28526916 0.40378027 0.34827422 0.29780164 0.24099439\n",
            " 0.27561297 0.25835501 0.24517188 0.23089303 0.23818657 0.24222709\n",
            " 0.24934942 0.26869604 0.28263255 0.27643474 0.28095465 0.24349406\n",
            " 0.24158334 0.22668607 0.22671964 0.23579783 0.24753458 0.25499929\n",
            " 0.27429805 0.2661279  0.26712096 0.27016846 0.2732845  0.2562663\n",
            " 0.26927822 0.26996306 0.26335436 0.26126557 0.26540887 0.31190936\n",
            " 0.31232025 0.30841662 0.32646216 0.32529789 0.33152989 0.29492535\n",
            " 0.29581568 0.29855503 0.30307494 0.3334132  0.32591426 0.3254691\n",
            " 0.32444184 0.32173677 0.37162717 0.41210106 0.40436245 0.39850705\n",
            " 0.41586767 0.46603203 0.47585943 0.44997262 0.45305439 0.45853309\n",
            " 0.45887551 0.46781259 0.54304207 0.45127383 0.51366252 0.51342284\n",
            " 0.50366391 0.50284205 0.48048208 0.42819475 0.44045336 0.43795368\n",
            " 0.41240929 0.44993834 0.41922339 0.40792357 0.39015206 0.37755103\n",
            " 0.31721685 0.32498974 0.31762774 0.28016707 0.30704695 0.39792496\n",
            " 0.37351048 0.38391997 0.44370634 0.42559241 0.42514725 0.41836734\n",
            " 0.4125805  0.42172306 0.40994381 0.40645307 0.4036535  0.401427\n",
            " 0.3998293  0.39870536 0.39787075 0.39716712]\n",
            "7 day output [[0.3964812]]\n",
            "8 day input [0.28526916 0.40378027 0.34827422 0.29780164 0.24099439 0.27561297\n",
            " 0.25835501 0.24517188 0.23089303 0.23818657 0.24222709 0.24934942\n",
            " 0.26869604 0.28263255 0.27643474 0.28095465 0.24349406 0.24158334\n",
            " 0.22668607 0.22671964 0.23579783 0.24753458 0.25499929 0.27429805\n",
            " 0.2661279  0.26712096 0.27016846 0.2732845  0.2562663  0.26927822\n",
            " 0.26996306 0.26335436 0.26126557 0.26540887 0.31190936 0.31232025\n",
            " 0.30841662 0.32646216 0.32529789 0.33152989 0.29492535 0.29581568\n",
            " 0.29855503 0.30307494 0.3334132  0.32591426 0.3254691  0.32444184\n",
            " 0.32173677 0.37162717 0.41210106 0.40436245 0.39850705 0.41586767\n",
            " 0.46603203 0.47585943 0.44997262 0.45305439 0.45853309 0.45887551\n",
            " 0.46781259 0.54304207 0.45127383 0.51366252 0.51342284 0.50366391\n",
            " 0.50284205 0.48048208 0.42819475 0.44045336 0.43795368 0.41240929\n",
            " 0.44993834 0.41922339 0.40792357 0.39015206 0.37755103 0.31721685\n",
            " 0.32498974 0.31762774 0.28016707 0.30704695 0.39792496 0.37351048\n",
            " 0.38391997 0.44370634 0.42559241 0.42514725 0.41836734 0.4125805\n",
            " 0.42172306 0.40994381 0.40645307 0.4036535  0.401427   0.3998293\n",
            " 0.39870536 0.39787075 0.39716712 0.39648119]\n",
            "8 day output [[0.395747]]\n",
            "9 day input [0.40378027 0.34827422 0.29780164 0.24099439 0.27561297 0.25835501\n",
            " 0.24517188 0.23089303 0.23818657 0.24222709 0.24934942 0.26869604\n",
            " 0.28263255 0.27643474 0.28095465 0.24349406 0.24158334 0.22668607\n",
            " 0.22671964 0.23579783 0.24753458 0.25499929 0.27429805 0.2661279\n",
            " 0.26712096 0.27016846 0.2732845  0.2562663  0.26927822 0.26996306\n",
            " 0.26335436 0.26126557 0.26540887 0.31190936 0.31232025 0.30841662\n",
            " 0.32646216 0.32529789 0.33152989 0.29492535 0.29581568 0.29855503\n",
            " 0.30307494 0.3334132  0.32591426 0.3254691  0.32444184 0.32173677\n",
            " 0.37162717 0.41210106 0.40436245 0.39850705 0.41586767 0.46603203\n",
            " 0.47585943 0.44997262 0.45305439 0.45853309 0.45887551 0.46781259\n",
            " 0.54304207 0.45127383 0.51366252 0.51342284 0.50366391 0.50284205\n",
            " 0.48048208 0.42819475 0.44045336 0.43795368 0.41240929 0.44993834\n",
            " 0.41922339 0.40792357 0.39015206 0.37755103 0.31721685 0.32498974\n",
            " 0.31762774 0.28016707 0.30704695 0.39792496 0.37351048 0.38391997\n",
            " 0.44370634 0.42559241 0.42514725 0.41836734 0.4125805  0.42172306\n",
            " 0.40994381 0.40645307 0.4036535  0.401427   0.3998293  0.39870536\n",
            " 0.39787075 0.39716712 0.39648119 0.39574701]\n",
            "9 day output [[0.39493853]]\n",
            "10 day input [0.34827422 0.29780164 0.24099439 0.27561297 0.25835501 0.24517188\n",
            " 0.23089303 0.23818657 0.24222709 0.24934942 0.26869604 0.28263255\n",
            " 0.27643474 0.28095465 0.24349406 0.24158334 0.22668607 0.22671964\n",
            " 0.23579783 0.24753458 0.25499929 0.27429805 0.2661279  0.26712096\n",
            " 0.27016846 0.2732845  0.2562663  0.26927822 0.26996306 0.26335436\n",
            " 0.26126557 0.26540887 0.31190936 0.31232025 0.30841662 0.32646216\n",
            " 0.32529789 0.33152989 0.29492535 0.29581568 0.29855503 0.30307494\n",
            " 0.3334132  0.32591426 0.3254691  0.32444184 0.32173677 0.37162717\n",
            " 0.41210106 0.40436245 0.39850705 0.41586767 0.46603203 0.47585943\n",
            " 0.44997262 0.45305439 0.45853309 0.45887551 0.46781259 0.54304207\n",
            " 0.45127383 0.51366252 0.51342284 0.50366391 0.50284205 0.48048208\n",
            " 0.42819475 0.44045336 0.43795368 0.41240929 0.44993834 0.41922339\n",
            " 0.40792357 0.39015206 0.37755103 0.31721685 0.32498974 0.31762774\n",
            " 0.28016707 0.30704695 0.39792496 0.37351048 0.38391997 0.44370634\n",
            " 0.42559241 0.42514725 0.41836734 0.4125805  0.42172306 0.40994381\n",
            " 0.40645307 0.4036535  0.401427   0.3998293  0.39870536 0.39787075\n",
            " 0.39716712 0.39648119 0.39574701 0.39493853]\n",
            "10 day output [[0.39405853]]\n",
            "11 day input [0.29780164 0.24099439 0.27561297 0.25835501 0.24517188 0.23089303\n",
            " 0.23818657 0.24222709 0.24934942 0.26869604 0.28263255 0.27643474\n",
            " 0.28095465 0.24349406 0.24158334 0.22668607 0.22671964 0.23579783\n",
            " 0.24753458 0.25499929 0.27429805 0.2661279  0.26712096 0.27016846\n",
            " 0.2732845  0.2562663  0.26927822 0.26996306 0.26335436 0.26126557\n",
            " 0.26540887 0.31190936 0.31232025 0.30841662 0.32646216 0.32529789\n",
            " 0.33152989 0.29492535 0.29581568 0.29855503 0.30307494 0.3334132\n",
            " 0.32591426 0.3254691  0.32444184 0.32173677 0.37162717 0.41210106\n",
            " 0.40436245 0.39850705 0.41586767 0.46603203 0.47585943 0.44997262\n",
            " 0.45305439 0.45853309 0.45887551 0.46781259 0.54304207 0.45127383\n",
            " 0.51366252 0.51342284 0.50366391 0.50284205 0.48048208 0.42819475\n",
            " 0.44045336 0.43795368 0.41240929 0.44993834 0.41922339 0.40792357\n",
            " 0.39015206 0.37755103 0.31721685 0.32498974 0.31762774 0.28016707\n",
            " 0.30704695 0.39792496 0.37351048 0.38391997 0.44370634 0.42559241\n",
            " 0.42514725 0.41836734 0.4125805  0.42172306 0.40994381 0.40645307\n",
            " 0.4036535  0.401427   0.3998293  0.39870536 0.39787075 0.39716712\n",
            " 0.39648119 0.39574701 0.39493853 0.39405853]\n",
            "11 day output [[0.3931264]]\n",
            "12 day input [0.24099439 0.27561297 0.25835501 0.24517188 0.23089303 0.23818657\n",
            " 0.24222709 0.24934942 0.26869604 0.28263255 0.27643474 0.28095465\n",
            " 0.24349406 0.24158334 0.22668607 0.22671964 0.23579783 0.24753458\n",
            " 0.25499929 0.27429805 0.2661279  0.26712096 0.27016846 0.2732845\n",
            " 0.2562663  0.26927822 0.26996306 0.26335436 0.26126557 0.26540887\n",
            " 0.31190936 0.31232025 0.30841662 0.32646216 0.32529789 0.33152989\n",
            " 0.29492535 0.29581568 0.29855503 0.30307494 0.3334132  0.32591426\n",
            " 0.3254691  0.32444184 0.32173677 0.37162717 0.41210106 0.40436245\n",
            " 0.39850705 0.41586767 0.46603203 0.47585943 0.44997262 0.45305439\n",
            " 0.45853309 0.45887551 0.46781259 0.54304207 0.45127383 0.51366252\n",
            " 0.51342284 0.50366391 0.50284205 0.48048208 0.42819475 0.44045336\n",
            " 0.43795368 0.41240929 0.44993834 0.41922339 0.40792357 0.39015206\n",
            " 0.37755103 0.31721685 0.32498974 0.31762774 0.28016707 0.30704695\n",
            " 0.39792496 0.37351048 0.38391997 0.44370634 0.42559241 0.42514725\n",
            " 0.41836734 0.4125805  0.42172306 0.40994381 0.40645307 0.4036535\n",
            " 0.401427   0.3998293  0.39870536 0.39787075 0.39716712 0.39648119\n",
            " 0.39574701 0.39493853 0.39405853 0.3931264 ]\n",
            "12 day output [[0.39216825]]\n",
            "13 day input [0.27561297 0.25835501 0.24517188 0.23089303 0.23818657 0.24222709\n",
            " 0.24934942 0.26869604 0.28263255 0.27643474 0.28095465 0.24349406\n",
            " 0.24158334 0.22668607 0.22671964 0.23579783 0.24753458 0.25499929\n",
            " 0.27429805 0.2661279  0.26712096 0.27016846 0.2732845  0.2562663\n",
            " 0.26927822 0.26996306 0.26335436 0.26126557 0.26540887 0.31190936\n",
            " 0.31232025 0.30841662 0.32646216 0.32529789 0.33152989 0.29492535\n",
            " 0.29581568 0.29855503 0.30307494 0.3334132  0.32591426 0.3254691\n",
            " 0.32444184 0.32173677 0.37162717 0.41210106 0.40436245 0.39850705\n",
            " 0.41586767 0.46603203 0.47585943 0.44997262 0.45305439 0.45853309\n",
            " 0.45887551 0.46781259 0.54304207 0.45127383 0.51366252 0.51342284\n",
            " 0.50366391 0.50284205 0.48048208 0.42819475 0.44045336 0.43795368\n",
            " 0.41240929 0.44993834 0.41922339 0.40792357 0.39015206 0.37755103\n",
            " 0.31721685 0.32498974 0.31762774 0.28016707 0.30704695 0.39792496\n",
            " 0.37351048 0.38391997 0.44370634 0.42559241 0.42514725 0.41836734\n",
            " 0.4125805  0.42172306 0.40994381 0.40645307 0.4036535  0.401427\n",
            " 0.3998293  0.39870536 0.39787075 0.39716712 0.39648119 0.39574701\n",
            " 0.39493853 0.39405853 0.3931264  0.39216825]\n",
            "13 day output [[0.3912093]]\n",
            "14 day input [0.25835501 0.24517188 0.23089303 0.23818657 0.24222709 0.24934942\n",
            " 0.26869604 0.28263255 0.27643474 0.28095465 0.24349406 0.24158334\n",
            " 0.22668607 0.22671964 0.23579783 0.24753458 0.25499929 0.27429805\n",
            " 0.2661279  0.26712096 0.27016846 0.2732845  0.2562663  0.26927822\n",
            " 0.26996306 0.26335436 0.26126557 0.26540887 0.31190936 0.31232025\n",
            " 0.30841662 0.32646216 0.32529789 0.33152989 0.29492535 0.29581568\n",
            " 0.29855503 0.30307494 0.3334132  0.32591426 0.3254691  0.32444184\n",
            " 0.32173677 0.37162717 0.41210106 0.40436245 0.39850705 0.41586767\n",
            " 0.46603203 0.47585943 0.44997262 0.45305439 0.45853309 0.45887551\n",
            " 0.46781259 0.54304207 0.45127383 0.51366252 0.51342284 0.50366391\n",
            " 0.50284205 0.48048208 0.42819475 0.44045336 0.43795368 0.41240929\n",
            " 0.44993834 0.41922339 0.40792357 0.39015206 0.37755103 0.31721685\n",
            " 0.32498974 0.31762774 0.28016707 0.30704695 0.39792496 0.37351048\n",
            " 0.38391997 0.44370634 0.42559241 0.42514725 0.41836734 0.4125805\n",
            " 0.42172306 0.40994381 0.40645307 0.4036535  0.401427   0.3998293\n",
            " 0.39870536 0.39787075 0.39716712 0.39648119 0.39574701 0.39493853\n",
            " 0.39405853 0.3931264  0.39216825 0.3912093 ]\n",
            "14 day output [[0.39026952]]\n",
            "15 day input [0.24517188 0.23089303 0.23818657 0.24222709 0.24934942 0.26869604\n",
            " 0.28263255 0.27643474 0.28095465 0.24349406 0.24158334 0.22668607\n",
            " 0.22671964 0.23579783 0.24753458 0.25499929 0.27429805 0.2661279\n",
            " 0.26712096 0.27016846 0.2732845  0.2562663  0.26927822 0.26996306\n",
            " 0.26335436 0.26126557 0.26540887 0.31190936 0.31232025 0.30841662\n",
            " 0.32646216 0.32529789 0.33152989 0.29492535 0.29581568 0.29855503\n",
            " 0.30307494 0.3334132  0.32591426 0.3254691  0.32444184 0.32173677\n",
            " 0.37162717 0.41210106 0.40436245 0.39850705 0.41586767 0.46603203\n",
            " 0.47585943 0.44997262 0.45305439 0.45853309 0.45887551 0.46781259\n",
            " 0.54304207 0.45127383 0.51366252 0.51342284 0.50366391 0.50284205\n",
            " 0.48048208 0.42819475 0.44045336 0.43795368 0.41240929 0.44993834\n",
            " 0.41922339 0.40792357 0.39015206 0.37755103 0.31721685 0.32498974\n",
            " 0.31762774 0.28016707 0.30704695 0.39792496 0.37351048 0.38391997\n",
            " 0.44370634 0.42559241 0.42514725 0.41836734 0.4125805  0.42172306\n",
            " 0.40994381 0.40645307 0.4036535  0.401427   0.3998293  0.39870536\n",
            " 0.39787075 0.39716712 0.39648119 0.39574701 0.39493853 0.39405853\n",
            " 0.3931264  0.39216825 0.3912093  0.39026952]\n",
            "15 day output [[0.38936177]]\n",
            "16 day input [0.23089303 0.23818657 0.24222709 0.24934942 0.26869604 0.28263255\n",
            " 0.27643474 0.28095465 0.24349406 0.24158334 0.22668607 0.22671964\n",
            " 0.23579783 0.24753458 0.25499929 0.27429805 0.2661279  0.26712096\n",
            " 0.27016846 0.2732845  0.2562663  0.26927822 0.26996306 0.26335436\n",
            " 0.26126557 0.26540887 0.31190936 0.31232025 0.30841662 0.32646216\n",
            " 0.32529789 0.33152989 0.29492535 0.29581568 0.29855503 0.30307494\n",
            " 0.3334132  0.32591426 0.3254691  0.32444184 0.32173677 0.37162717\n",
            " 0.41210106 0.40436245 0.39850705 0.41586767 0.46603203 0.47585943\n",
            " 0.44997262 0.45305439 0.45853309 0.45887551 0.46781259 0.54304207\n",
            " 0.45127383 0.51366252 0.51342284 0.50366391 0.50284205 0.48048208\n",
            " 0.42819475 0.44045336 0.43795368 0.41240929 0.44993834 0.41922339\n",
            " 0.40792357 0.39015206 0.37755103 0.31721685 0.32498974 0.31762774\n",
            " 0.28016707 0.30704695 0.39792496 0.37351048 0.38391997 0.44370634\n",
            " 0.42559241 0.42514725 0.41836734 0.4125805  0.42172306 0.40994381\n",
            " 0.40645307 0.4036535  0.401427   0.3998293  0.39870536 0.39787075\n",
            " 0.39716712 0.39648119 0.39574701 0.39493853 0.39405853 0.3931264\n",
            " 0.39216825 0.3912093  0.39026952 0.38936177]\n",
            "16 day output [[0.38849226]]\n",
            "17 day input [0.23818657 0.24222709 0.24934942 0.26869604 0.28263255 0.27643474\n",
            " 0.28095465 0.24349406 0.24158334 0.22668607 0.22671964 0.23579783\n",
            " 0.24753458 0.25499929 0.27429805 0.2661279  0.26712096 0.27016846\n",
            " 0.2732845  0.2562663  0.26927822 0.26996306 0.26335436 0.26126557\n",
            " 0.26540887 0.31190936 0.31232025 0.30841662 0.32646216 0.32529789\n",
            " 0.33152989 0.29492535 0.29581568 0.29855503 0.30307494 0.3334132\n",
            " 0.32591426 0.3254691  0.32444184 0.32173677 0.37162717 0.41210106\n",
            " 0.40436245 0.39850705 0.41586767 0.46603203 0.47585943 0.44997262\n",
            " 0.45305439 0.45853309 0.45887551 0.46781259 0.54304207 0.45127383\n",
            " 0.51366252 0.51342284 0.50366391 0.50284205 0.48048208 0.42819475\n",
            " 0.44045336 0.43795368 0.41240929 0.44993834 0.41922339 0.40792357\n",
            " 0.39015206 0.37755103 0.31721685 0.32498974 0.31762774 0.28016707\n",
            " 0.30704695 0.39792496 0.37351048 0.38391997 0.44370634 0.42559241\n",
            " 0.42514725 0.41836734 0.4125805  0.42172306 0.40994381 0.40645307\n",
            " 0.4036535  0.401427   0.3998293  0.39870536 0.39787075 0.39716712\n",
            " 0.39648119 0.39574701 0.39493853 0.39405853 0.3931264  0.39216825\n",
            " 0.3912093  0.39026952 0.38936177 0.38849226]\n",
            "17 day output [[0.38766143]]\n",
            "18 day input [0.24222709 0.24934942 0.26869604 0.28263255 0.27643474 0.28095465\n",
            " 0.24349406 0.24158334 0.22668607 0.22671964 0.23579783 0.24753458\n",
            " 0.25499929 0.27429805 0.2661279  0.26712096 0.27016846 0.2732845\n",
            " 0.2562663  0.26927822 0.26996306 0.26335436 0.26126557 0.26540887\n",
            " 0.31190936 0.31232025 0.30841662 0.32646216 0.32529789 0.33152989\n",
            " 0.29492535 0.29581568 0.29855503 0.30307494 0.3334132  0.32591426\n",
            " 0.3254691  0.32444184 0.32173677 0.37162717 0.41210106 0.40436245\n",
            " 0.39850705 0.41586767 0.46603203 0.47585943 0.44997262 0.45305439\n",
            " 0.45853309 0.45887551 0.46781259 0.54304207 0.45127383 0.51366252\n",
            " 0.51342284 0.50366391 0.50284205 0.48048208 0.42819475 0.44045336\n",
            " 0.43795368 0.41240929 0.44993834 0.41922339 0.40792357 0.39015206\n",
            " 0.37755103 0.31721685 0.32498974 0.31762774 0.28016707 0.30704695\n",
            " 0.39792496 0.37351048 0.38391997 0.44370634 0.42559241 0.42514725\n",
            " 0.41836734 0.4125805  0.42172306 0.40994381 0.40645307 0.4036535\n",
            " 0.401427   0.3998293  0.39870536 0.39787075 0.39716712 0.39648119\n",
            " 0.39574701 0.39493853 0.39405853 0.3931264  0.39216825 0.3912093\n",
            " 0.39026952 0.38936177 0.38849226 0.38766143]\n",
            "18 day output [[0.38686615]]\n",
            "19 day input [0.24934942 0.26869604 0.28263255 0.27643474 0.28095465 0.24349406\n",
            " 0.24158334 0.22668607 0.22671964 0.23579783 0.24753458 0.25499929\n",
            " 0.27429805 0.2661279  0.26712096 0.27016846 0.2732845  0.2562663\n",
            " 0.26927822 0.26996306 0.26335436 0.26126557 0.26540887 0.31190936\n",
            " 0.31232025 0.30841662 0.32646216 0.32529789 0.33152989 0.29492535\n",
            " 0.29581568 0.29855503 0.30307494 0.3334132  0.32591426 0.3254691\n",
            " 0.32444184 0.32173677 0.37162717 0.41210106 0.40436245 0.39850705\n",
            " 0.41586767 0.46603203 0.47585943 0.44997262 0.45305439 0.45853309\n",
            " 0.45887551 0.46781259 0.54304207 0.45127383 0.51366252 0.51342284\n",
            " 0.50366391 0.50284205 0.48048208 0.42819475 0.44045336 0.43795368\n",
            " 0.41240929 0.44993834 0.41922339 0.40792357 0.39015206 0.37755103\n",
            " 0.31721685 0.32498974 0.31762774 0.28016707 0.30704695 0.39792496\n",
            " 0.37351048 0.38391997 0.44370634 0.42559241 0.42514725 0.41836734\n",
            " 0.4125805  0.42172306 0.40994381 0.40645307 0.4036535  0.401427\n",
            " 0.3998293  0.39870536 0.39787075 0.39716712 0.39648119 0.39574701\n",
            " 0.39493853 0.39405853 0.3931264  0.39216825 0.3912093  0.39026952\n",
            " 0.38936177 0.38849226 0.38766143 0.38686615]\n",
            "19 day output [[0.38610107]]\n",
            "20 day input [0.26869604 0.28263255 0.27643474 0.28095465 0.24349406 0.24158334\n",
            " 0.22668607 0.22671964 0.23579783 0.24753458 0.25499929 0.27429805\n",
            " 0.2661279  0.26712096 0.27016846 0.2732845  0.2562663  0.26927822\n",
            " 0.26996306 0.26335436 0.26126557 0.26540887 0.31190936 0.31232025\n",
            " 0.30841662 0.32646216 0.32529789 0.33152989 0.29492535 0.29581568\n",
            " 0.29855503 0.30307494 0.3334132  0.32591426 0.3254691  0.32444184\n",
            " 0.32173677 0.37162717 0.41210106 0.40436245 0.39850705 0.41586767\n",
            " 0.46603203 0.47585943 0.44997262 0.45305439 0.45853309 0.45887551\n",
            " 0.46781259 0.54304207 0.45127383 0.51366252 0.51342284 0.50366391\n",
            " 0.50284205 0.48048208 0.42819475 0.44045336 0.43795368 0.41240929\n",
            " 0.44993834 0.41922339 0.40792357 0.39015206 0.37755103 0.31721685\n",
            " 0.32498974 0.31762774 0.28016707 0.30704695 0.39792496 0.37351048\n",
            " 0.38391997 0.44370634 0.42559241 0.42514725 0.41836734 0.4125805\n",
            " 0.42172306 0.40994381 0.40645307 0.4036535  0.401427   0.3998293\n",
            " 0.39870536 0.39787075 0.39716712 0.39648119 0.39574701 0.39493853\n",
            " 0.39405853 0.3931264  0.39216825 0.3912093  0.39026952 0.38936177\n",
            " 0.38849226 0.38766143 0.38686615 0.38610107]\n",
            "20 day output [[0.3853605]]\n",
            "21 day input [0.28263255 0.27643474 0.28095465 0.24349406 0.24158334 0.22668607\n",
            " 0.22671964 0.23579783 0.24753458 0.25499929 0.27429805 0.2661279\n",
            " 0.26712096 0.27016846 0.2732845  0.2562663  0.26927822 0.26996306\n",
            " 0.26335436 0.26126557 0.26540887 0.31190936 0.31232025 0.30841662\n",
            " 0.32646216 0.32529789 0.33152989 0.29492535 0.29581568 0.29855503\n",
            " 0.30307494 0.3334132  0.32591426 0.3254691  0.32444184 0.32173677\n",
            " 0.37162717 0.41210106 0.40436245 0.39850705 0.41586767 0.46603203\n",
            " 0.47585943 0.44997262 0.45305439 0.45853309 0.45887551 0.46781259\n",
            " 0.54304207 0.45127383 0.51366252 0.51342284 0.50366391 0.50284205\n",
            " 0.48048208 0.42819475 0.44045336 0.43795368 0.41240929 0.44993834\n",
            " 0.41922339 0.40792357 0.39015206 0.37755103 0.31721685 0.32498974\n",
            " 0.31762774 0.28016707 0.30704695 0.39792496 0.37351048 0.38391997\n",
            " 0.44370634 0.42559241 0.42514725 0.41836734 0.4125805  0.42172306\n",
            " 0.40994381 0.40645307 0.4036535  0.401427   0.3998293  0.39870536\n",
            " 0.39787075 0.39716712 0.39648119 0.39574701 0.39493853 0.39405853\n",
            " 0.3931264  0.39216825 0.3912093  0.39026952 0.38936177 0.38849226\n",
            " 0.38766143 0.38686615 0.38610107 0.38536051]\n",
            "21 day output [[0.38463908]]\n",
            "22 day input [0.27643474 0.28095465 0.24349406 0.24158334 0.22668607 0.22671964\n",
            " 0.23579783 0.24753458 0.25499929 0.27429805 0.2661279  0.26712096\n",
            " 0.27016846 0.2732845  0.2562663  0.26927822 0.26996306 0.26335436\n",
            " 0.26126557 0.26540887 0.31190936 0.31232025 0.30841662 0.32646216\n",
            " 0.32529789 0.33152989 0.29492535 0.29581568 0.29855503 0.30307494\n",
            " 0.3334132  0.32591426 0.3254691  0.32444184 0.32173677 0.37162717\n",
            " 0.41210106 0.40436245 0.39850705 0.41586767 0.46603203 0.47585943\n",
            " 0.44997262 0.45305439 0.45853309 0.45887551 0.46781259 0.54304207\n",
            " 0.45127383 0.51366252 0.51342284 0.50366391 0.50284205 0.48048208\n",
            " 0.42819475 0.44045336 0.43795368 0.41240929 0.44993834 0.41922339\n",
            " 0.40792357 0.39015206 0.37755103 0.31721685 0.32498974 0.31762774\n",
            " 0.28016707 0.30704695 0.39792496 0.37351048 0.38391997 0.44370634\n",
            " 0.42559241 0.42514725 0.41836734 0.4125805  0.42172306 0.40994381\n",
            " 0.40645307 0.4036535  0.401427   0.3998293  0.39870536 0.39787075\n",
            " 0.39716712 0.39648119 0.39574701 0.39493853 0.39405853 0.3931264\n",
            " 0.39216825 0.3912093  0.39026952 0.38936177 0.38849226 0.38766143\n",
            " 0.38686615 0.38610107 0.38536051 0.38463908]\n",
            "22 day output [[0.38393247]]\n",
            "23 day input [0.28095465 0.24349406 0.24158334 0.22668607 0.22671964 0.23579783\n",
            " 0.24753458 0.25499929 0.27429805 0.2661279  0.26712096 0.27016846\n",
            " 0.2732845  0.2562663  0.26927822 0.26996306 0.26335436 0.26126557\n",
            " 0.26540887 0.31190936 0.31232025 0.30841662 0.32646216 0.32529789\n",
            " 0.33152989 0.29492535 0.29581568 0.29855503 0.30307494 0.3334132\n",
            " 0.32591426 0.3254691  0.32444184 0.32173677 0.37162717 0.41210106\n",
            " 0.40436245 0.39850705 0.41586767 0.46603203 0.47585943 0.44997262\n",
            " 0.45305439 0.45853309 0.45887551 0.46781259 0.54304207 0.45127383\n",
            " 0.51366252 0.51342284 0.50366391 0.50284205 0.48048208 0.42819475\n",
            " 0.44045336 0.43795368 0.41240929 0.44993834 0.41922339 0.40792357\n",
            " 0.39015206 0.37755103 0.31721685 0.32498974 0.31762774 0.28016707\n",
            " 0.30704695 0.39792496 0.37351048 0.38391997 0.44370634 0.42559241\n",
            " 0.42514725 0.41836734 0.4125805  0.42172306 0.40994381 0.40645307\n",
            " 0.4036535  0.401427   0.3998293  0.39870536 0.39787075 0.39716712\n",
            " 0.39648119 0.39574701 0.39493853 0.39405853 0.3931264  0.39216825\n",
            " 0.3912093  0.39026952 0.38936177 0.38849226 0.38766143 0.38686615\n",
            " 0.38610107 0.38536051 0.38463908 0.38393247]\n",
            "23 day output [[0.38323766]]\n",
            "24 day input [0.24349406 0.24158334 0.22668607 0.22671964 0.23579783 0.24753458\n",
            " 0.25499929 0.27429805 0.2661279  0.26712096 0.27016846 0.2732845\n",
            " 0.2562663  0.26927822 0.26996306 0.26335436 0.26126557 0.26540887\n",
            " 0.31190936 0.31232025 0.30841662 0.32646216 0.32529789 0.33152989\n",
            " 0.29492535 0.29581568 0.29855503 0.30307494 0.3334132  0.32591426\n",
            " 0.3254691  0.32444184 0.32173677 0.37162717 0.41210106 0.40436245\n",
            " 0.39850705 0.41586767 0.46603203 0.47585943 0.44997262 0.45305439\n",
            " 0.45853309 0.45887551 0.46781259 0.54304207 0.45127383 0.51366252\n",
            " 0.51342284 0.50366391 0.50284205 0.48048208 0.42819475 0.44045336\n",
            " 0.43795368 0.41240929 0.44993834 0.41922339 0.40792357 0.39015206\n",
            " 0.37755103 0.31721685 0.32498974 0.31762774 0.28016707 0.30704695\n",
            " 0.39792496 0.37351048 0.38391997 0.44370634 0.42559241 0.42514725\n",
            " 0.41836734 0.4125805  0.42172306 0.40994381 0.40645307 0.4036535\n",
            " 0.401427   0.3998293  0.39870536 0.39787075 0.39716712 0.39648119\n",
            " 0.39574701 0.39493853 0.39405853 0.3931264  0.39216825 0.3912093\n",
            " 0.39026952 0.38936177 0.38849226 0.38766143 0.38686615 0.38610107\n",
            " 0.38536051 0.38463908 0.38393247 0.38323766]\n",
            "24 day output [[0.38255262]]\n",
            "25 day input [0.24158334 0.22668607 0.22671964 0.23579783 0.24753458 0.25499929\n",
            " 0.27429805 0.2661279  0.26712096 0.27016846 0.2732845  0.2562663\n",
            " 0.26927822 0.26996306 0.26335436 0.26126557 0.26540887 0.31190936\n",
            " 0.31232025 0.30841662 0.32646216 0.32529789 0.33152989 0.29492535\n",
            " 0.29581568 0.29855503 0.30307494 0.3334132  0.32591426 0.3254691\n",
            " 0.32444184 0.32173677 0.37162717 0.41210106 0.40436245 0.39850705\n",
            " 0.41586767 0.46603203 0.47585943 0.44997262 0.45305439 0.45853309\n",
            " 0.45887551 0.46781259 0.54304207 0.45127383 0.51366252 0.51342284\n",
            " 0.50366391 0.50284205 0.48048208 0.42819475 0.44045336 0.43795368\n",
            " 0.41240929 0.44993834 0.41922339 0.40792357 0.39015206 0.37755103\n",
            " 0.31721685 0.32498974 0.31762774 0.28016707 0.30704695 0.39792496\n",
            " 0.37351048 0.38391997 0.44370634 0.42559241 0.42514725 0.41836734\n",
            " 0.4125805  0.42172306 0.40994381 0.40645307 0.4036535  0.401427\n",
            " 0.3998293  0.39870536 0.39787075 0.39716712 0.39648119 0.39574701\n",
            " 0.39493853 0.39405853 0.3931264  0.39216825 0.3912093  0.39026952\n",
            " 0.38936177 0.38849226 0.38766143 0.38686615 0.38610107 0.38536051\n",
            " 0.38463908 0.38393247 0.38323766 0.38255262]\n",
            "25 day output [[0.38187647]]\n",
            "26 day input [0.22668607 0.22671964 0.23579783 0.24753458 0.25499929 0.27429805\n",
            " 0.2661279  0.26712096 0.27016846 0.2732845  0.2562663  0.26927822\n",
            " 0.26996306 0.26335436 0.26126557 0.26540887 0.31190936 0.31232025\n",
            " 0.30841662 0.32646216 0.32529789 0.33152989 0.29492535 0.29581568\n",
            " 0.29855503 0.30307494 0.3334132  0.32591426 0.3254691  0.32444184\n",
            " 0.32173677 0.37162717 0.41210106 0.40436245 0.39850705 0.41586767\n",
            " 0.46603203 0.47585943 0.44997262 0.45305439 0.45853309 0.45887551\n",
            " 0.46781259 0.54304207 0.45127383 0.51366252 0.51342284 0.50366391\n",
            " 0.50284205 0.48048208 0.42819475 0.44045336 0.43795368 0.41240929\n",
            " 0.44993834 0.41922339 0.40792357 0.39015206 0.37755103 0.31721685\n",
            " 0.32498974 0.31762774 0.28016707 0.30704695 0.39792496 0.37351048\n",
            " 0.38391997 0.44370634 0.42559241 0.42514725 0.41836734 0.4125805\n",
            " 0.42172306 0.40994381 0.40645307 0.4036535  0.401427   0.3998293\n",
            " 0.39870536 0.39787075 0.39716712 0.39648119 0.39574701 0.39493853\n",
            " 0.39405853 0.3931264  0.39216825 0.3912093  0.39026952 0.38936177\n",
            " 0.38849226 0.38766143 0.38686615 0.38610107 0.38536051 0.38463908\n",
            " 0.38393247 0.38323766 0.38255262 0.38187647]\n",
            "26 day output [[0.3812088]]\n",
            "27 day input [0.22671964 0.23579783 0.24753458 0.25499929 0.27429805 0.2661279\n",
            " 0.26712096 0.27016846 0.2732845  0.2562663  0.26927822 0.26996306\n",
            " 0.26335436 0.26126557 0.26540887 0.31190936 0.31232025 0.30841662\n",
            " 0.32646216 0.32529789 0.33152989 0.29492535 0.29581568 0.29855503\n",
            " 0.30307494 0.3334132  0.32591426 0.3254691  0.32444184 0.32173677\n",
            " 0.37162717 0.41210106 0.40436245 0.39850705 0.41586767 0.46603203\n",
            " 0.47585943 0.44997262 0.45305439 0.45853309 0.45887551 0.46781259\n",
            " 0.54304207 0.45127383 0.51366252 0.51342284 0.50366391 0.50284205\n",
            " 0.48048208 0.42819475 0.44045336 0.43795368 0.41240929 0.44993834\n",
            " 0.41922339 0.40792357 0.39015206 0.37755103 0.31721685 0.32498974\n",
            " 0.31762774 0.28016707 0.30704695 0.39792496 0.37351048 0.38391997\n",
            " 0.44370634 0.42559241 0.42514725 0.41836734 0.4125805  0.42172306\n",
            " 0.40994381 0.40645307 0.4036535  0.401427   0.3998293  0.39870536\n",
            " 0.39787075 0.39716712 0.39648119 0.39574701 0.39493853 0.39405853\n",
            " 0.3931264  0.39216825 0.3912093  0.39026952 0.38936177 0.38849226\n",
            " 0.38766143 0.38686615 0.38610107 0.38536051 0.38463908 0.38393247\n",
            " 0.38323766 0.38255262 0.38187647 0.38120881]\n",
            "27 day output [[0.3805497]]\n",
            "28 day input [0.23579783 0.24753458 0.25499929 0.27429805 0.2661279  0.26712096\n",
            " 0.27016846 0.2732845  0.2562663  0.26927822 0.26996306 0.26335436\n",
            " 0.26126557 0.26540887 0.31190936 0.31232025 0.30841662 0.32646216\n",
            " 0.32529789 0.33152989 0.29492535 0.29581568 0.29855503 0.30307494\n",
            " 0.3334132  0.32591426 0.3254691  0.32444184 0.32173677 0.37162717\n",
            " 0.41210106 0.40436245 0.39850705 0.41586767 0.46603203 0.47585943\n",
            " 0.44997262 0.45305439 0.45853309 0.45887551 0.46781259 0.54304207\n",
            " 0.45127383 0.51366252 0.51342284 0.50366391 0.50284205 0.48048208\n",
            " 0.42819475 0.44045336 0.43795368 0.41240929 0.44993834 0.41922339\n",
            " 0.40792357 0.39015206 0.37755103 0.31721685 0.32498974 0.31762774\n",
            " 0.28016707 0.30704695 0.39792496 0.37351048 0.38391997 0.44370634\n",
            " 0.42559241 0.42514725 0.41836734 0.4125805  0.42172306 0.40994381\n",
            " 0.40645307 0.4036535  0.401427   0.3998293  0.39870536 0.39787075\n",
            " 0.39716712 0.39648119 0.39574701 0.39493853 0.39405853 0.3931264\n",
            " 0.39216825 0.3912093  0.39026952 0.38936177 0.38849226 0.38766143\n",
            " 0.38686615 0.38610107 0.38536051 0.38463908 0.38393247 0.38323766\n",
            " 0.38255262 0.38187647 0.38120881 0.3805497 ]\n",
            "28 day output [[0.3798994]]\n",
            "29 day input [0.24753458 0.25499929 0.27429805 0.2661279  0.26712096 0.27016846\n",
            " 0.2732845  0.2562663  0.26927822 0.26996306 0.26335436 0.26126557\n",
            " 0.26540887 0.31190936 0.31232025 0.30841662 0.32646216 0.32529789\n",
            " 0.33152989 0.29492535 0.29581568 0.29855503 0.30307494 0.3334132\n",
            " 0.32591426 0.3254691  0.32444184 0.32173677 0.37162717 0.41210106\n",
            " 0.40436245 0.39850705 0.41586767 0.46603203 0.47585943 0.44997262\n",
            " 0.45305439 0.45853309 0.45887551 0.46781259 0.54304207 0.45127383\n",
            " 0.51366252 0.51342284 0.50366391 0.50284205 0.48048208 0.42819475\n",
            " 0.44045336 0.43795368 0.41240929 0.44993834 0.41922339 0.40792357\n",
            " 0.39015206 0.37755103 0.31721685 0.32498974 0.31762774 0.28016707\n",
            " 0.30704695 0.39792496 0.37351048 0.38391997 0.44370634 0.42559241\n",
            " 0.42514725 0.41836734 0.4125805  0.42172306 0.40994381 0.40645307\n",
            " 0.4036535  0.401427   0.3998293  0.39870536 0.39787075 0.39716712\n",
            " 0.39648119 0.39574701 0.39493853 0.39405853 0.3931264  0.39216825\n",
            " 0.3912093  0.39026952 0.38936177 0.38849226 0.38766143 0.38686615\n",
            " 0.38610107 0.38536051 0.38463908 0.38393247 0.38323766 0.38255262\n",
            " 0.38187647 0.38120881 0.3805497  0.37989941]\n",
            "29 day output [[0.37925822]]\n",
            "[[0.40645307302474976], [0.40365350246429443], [0.4014270007610321], [0.39982929825782776], [0.3987053632736206], [0.3978707492351532], [0.3971671164035797], [0.3964811861515045], [0.39574700593948364], [0.39493852853775024], [0.3940585255622864], [0.39312639832496643], [0.392168253660202], [0.39120930433273315], [0.39026951789855957], [0.38936176896095276], [0.38849225640296936], [0.3876614272594452], [0.38686615228652954], [0.3861010670661926], [0.3853605091571808], [0.38463908433914185], [0.3839324712753296], [0.38323765993118286], [0.3825526237487793], [0.38187646865844727], [0.3812088072299957], [0.38054969906806946], [0.37989941239356995], [0.3792582154273987]]\n"
          ],
          "name": "stdout"
        }
      ]
    },
    {
      "cell_type": "code",
      "metadata": {
        "id": "5s3IrPNZcps5"
      },
      "source": [
        "day_new=np.arange(1,101)\n",
        "day_pred=np.arange(101,131)"
      ],
      "execution_count": null,
      "outputs": []
    },
    {
      "cell_type": "code",
      "metadata": {
        "id": "FauilxhLcss7"
      },
      "source": [
        "import matplotlib.pyplot as plt"
      ],
      "execution_count": null,
      "outputs": []
    },
    {
      "cell_type": "code",
      "metadata": {
        "id": "C2S0OuBZdHFb",
        "outputId": "8acc795b-4150-4651-87c5-2d8e1a05787f",
        "colab": {
          "base_uri": "https://localhost:8080/",
          "height": 1000
        }
      },
      "source": [
        "day_new,scaler.inverse_transform(scaled_data[1136:])"
      ],
      "execution_count": null,
      "outputs": [
        {
          "output_type": "execute_result",
          "data": {
            "text/plain": [
              "(array([  1,   2,   3,   4,   5,   6,   7,   8,   9,  10,  11,  12,  13,\n",
              "         14,  15,  16,  17,  18,  19,  20,  21,  22,  23,  24,  25,  26,\n",
              "         27,  28,  29,  30,  31,  32,  33,  34,  35,  36,  37,  38,  39,\n",
              "         40,  41,  42,  43,  44,  45,  46,  47,  48,  49,  50,  51,  52,\n",
              "         53,  54,  55,  56,  57,  58,  59,  60,  61,  62,  63,  64,  65,\n",
              "         66,  67,  68,  69,  70,  71,  72,  73,  74,  75,  76,  77,  78,\n",
              "         79,  80,  81,  82,  83,  84,  85,  86,  87,  88,  89,  90,  91,\n",
              "         92,  93,  94,  95,  96,  97,  98,  99, 100]), array([[ 851.45001221],\n",
              "        [ 861.25      ],\n",
              "        [ 884.04998779],\n",
              "        [ 901.90002441],\n",
              "        [ 961.29998779],\n",
              "        [ 971.29998779],\n",
              "        [1002.90002441],\n",
              "        [1069.15002441],\n",
              "        [1242.19995117],\n",
              "        [1161.15002441],\n",
              "        [1087.44995117],\n",
              "        [1004.5       ],\n",
              "        [1055.05004883],\n",
              "        [1029.84997559],\n",
              "        [1010.59997559],\n",
              "        [ 989.75      ],\n",
              "        [1000.40002441],\n",
              "        [1006.29998779],\n",
              "        [1016.70001221],\n",
              "        [1044.94995117],\n",
              "        [1065.30004883],\n",
              "        [1056.25      ],\n",
              "        [1062.84997559],\n",
              "        [1008.15002441],\n",
              "        [1005.35998535],\n",
              "        [ 983.60699463],\n",
              "        [ 983.65600586],\n",
              "        [ 996.9119873 ],\n",
              "        [1014.04998779],\n",
              "        [1024.94995117],\n",
              "        [1053.13000488],\n",
              "        [1041.19995117],\n",
              "        [1042.65002441],\n",
              "        [1047.09997559],\n",
              "        [1051.65002441],\n",
              "        [1026.80004883],\n",
              "        [1045.80004883],\n",
              "        [1046.80004883],\n",
              "        [1037.15002441],\n",
              "        [1034.09997559],\n",
              "        [1040.15002441],\n",
              "        [1108.05004883],\n",
              "        [1108.65002441],\n",
              "        [1102.94995117],\n",
              "        [1129.30004883],\n",
              "        [1127.59997559],\n",
              "        [1136.69995117],\n",
              "        [1083.25      ],\n",
              "        [1084.55004883],\n",
              "        [1088.55004883],\n",
              "        [1095.15002441],\n",
              "        [1139.44995117],\n",
              "        [1128.5       ],\n",
              "        [1127.84997559],\n",
              "        [1126.34997559],\n",
              "        [1122.40002441],\n",
              "        [1195.25      ],\n",
              "        [1254.34997559],\n",
              "        [1243.05004883],\n",
              "        [1234.5       ],\n",
              "        [1259.84997559],\n",
              "        [1333.09997559],\n",
              "        [1347.44995117],\n",
              "        [1309.65002441],\n",
              "        [1314.15002441],\n",
              "        [1322.15002441],\n",
              "        [1322.65002441],\n",
              "        [1335.69995117],\n",
              "        [1445.55004883],\n",
              "        [1311.55004883],\n",
              "        [1402.65002441],\n",
              "        [1402.30004883],\n",
              "        [1388.05004883],\n",
              "        [1386.84997559],\n",
              "        [1354.19995117],\n",
              "        [1277.84997559],\n",
              "        [1295.75      ],\n",
              "        [1292.09997559],\n",
              "        [1254.80004883],\n",
              "        [1309.59997559],\n",
              "        [1264.75      ],\n",
              "        [1248.25      ],\n",
              "        [1222.30004883],\n",
              "        [1203.90002441],\n",
              "        [1115.80004883],\n",
              "        [1127.15002441],\n",
              "        [1116.40002441],\n",
              "        [1061.69995117],\n",
              "        [1100.94995117],\n",
              "        [1233.65002441],\n",
              "        [1198.        ],\n",
              "        [1213.19995117],\n",
              "        [1300.5       ],\n",
              "        [1274.05004883],\n",
              "        [1273.40002441],\n",
              "        [1263.5       ],\n",
              "        [1255.05004883],\n",
              "        [1268.40002441],\n",
              "        [1251.19995117]]))"
            ]
          },
          "metadata": {
            "tags": []
          },
          "execution_count": 58
        }
      ]
    },
    {
      "cell_type": "code",
      "metadata": {
        "id": "ucT6aPkdcu3G",
        "outputId": "88caca4e-03ee-464f-eed9-279872aba2f2",
        "colab": {
          "base_uri": "https://localhost:8080/",
          "height": 554
        }
      },
      "source": [
        "#Predictions of 13 october to 13 Novemeber.\n",
        "day_pred,scaler.inverse_transform(lst_output)"
      ],
      "execution_count": null,
      "outputs": [
        {
          "output_type": "execute_result",
          "data": {
            "text/plain": [
              "(array([101, 102, 103, 104, 105, 106, 107, 108, 109, 110, 111, 112, 113,\n",
              "        114, 115, 116, 117, 118, 119, 120, 121, 122, 123, 124, 125, 126,\n",
              "        127, 128, 129, 130]), array([[1246.10278259],\n",
              "        [1242.01484945],\n",
              "        [1238.7637115 ],\n",
              "        [1236.43074619],\n",
              "        [1234.78957624],\n",
              "        [1233.57087276],\n",
              "        [1232.54342805],\n",
              "        [1231.54183264],\n",
              "        [1230.46978264],\n",
              "        [1229.28924388],\n",
              "        [1228.00426347],\n",
              "        [1226.64317121],\n",
              "        [1225.2440883 ],\n",
              "        [1223.84383043],\n",
              "        [1222.47155421],\n",
              "        [1221.14605914],\n",
              "        [1219.87639684],\n",
              "        [1218.66322006],\n",
              "        [1217.50195949],\n",
              "        [1216.38478199],\n",
              "        [1215.30341928],\n",
              "        [1214.24999471],\n",
              "        [1213.21819826],\n",
              "        [1212.20363469],\n",
              "        [1211.2033448 ],\n",
              "        [1210.21602309],\n",
              "        [1209.24110382],\n",
              "        [1208.27867404],\n",
              "        [1207.32912539],\n",
              "        [1206.39284953]]))"
            ]
          },
          "metadata": {
            "tags": []
          },
          "execution_count": 59
        }
      ]
    },
    {
      "cell_type": "code",
      "metadata": {
        "id": "dslFl60AehUB",
        "outputId": "edc039c0-9ea5-438e-f21d-85776ecb6b36",
        "colab": {
          "base_uri": "https://localhost:8080/",
          "height": 299
        }
      },
      "source": [
        "plt.plot(day_new,scaler.inverse_transform(scaled_data[1135:]))\n",
        "plt.plot(day_pred,scaler.inverse_transform(lst_output))"
      ],
      "execution_count": null,
      "outputs": [
        {
          "output_type": "execute_result",
          "data": {
            "text/plain": [
              "[<matplotlib.lines.Line2D at 0x7fcd0176c518>]"
            ]
          },
          "metadata": {
            "tags": []
          },
          "execution_count": 60
        },
        {
          "output_type": "display_data",
          "data": {
            "image/png": "[encoded data removed]",
            "text/plain": [
              "<Figure size 432x288 with 1 Axes>"
            ]
          },
          "metadata": {
            "tags": []
          }
        }
      ]
    },
    {
      "cell_type": "code",
      "metadata": {
        "id": "OQLnGiqtjBRS"
      },
      "source": [
        "#Create a new dataframe to predict the next day open price 19th oct.\n",
        "#new_df = df.filter(['Open'])\n",
        "#Get teh last 60 day closing price \n",
        "###last_60_days = new_df[-60:].values\n",
        "#Scale the data to be values between 0 and 1\n",
        "#last_60_days_scaled = scaler.transform(last_60_days)\n",
        "#Create an empty list\n",
        "#X_test = []\n",
        "#Append teh past 60 days\n",
        "#X_test.append(last_60_days_scaled)\n",
        "#Convert the X_test data set to a numpy array\n",
        "#X_test = np.array(X_test)\n",
        "#Reshape the data\n",
        "#X_test = np.reshape(X_test, (X_test.shape[0], X_test.shape[1], 1))\n",
        "#Get the predicted scaled price\n",
        "#pred_price_open = model.predict(X_test)\n",
        "#undo the scaling \n",
        "#pred_price_open = scaler.inverse_transform(pred_price_open)"
      ],
      "execution_count": null,
      "outputs": []
    },
    {
      "cell_type": "code",
      "metadata": {
        "id": "AX2AIH6xjP6m"
      },
      "source": [
        "#getting the Last 60 data to predict the next day ie...8th october with 99% accuracy.\n",
        "#pred_price_open"
      ],
      "execution_count": null,
      "outputs": []
    }
  ]
}